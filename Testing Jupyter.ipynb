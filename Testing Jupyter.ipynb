{
 "cells": [
  {
   "cell_type": "code",
   "execution_count": 3,
   "metadata": {},
   "outputs": [
    {
     "data": {
      "text/plain": [
       "'Hello World'"
      ]
     },
     "execution_count": 3,
     "metadata": {},
     "output_type": "execute_result"
    }
   ],
   "source": [
    "\"Hello World\""
   ]
  },
  {
   "cell_type": "markdown",
   "metadata": {},
   "source": [
    "Hi\n"
   ]
  },
  {
   "cell_type": "code",
   "execution_count": 6,
   "metadata": {},
   "outputs": [
    {
     "name": "stdout",
     "output_type": "stream",
     "text": [
      " Volume in drive D is D:\n",
      " Volume Serial Number is B8B5-03EE\n",
      "\n",
      " Directory of D:\\Abhishek\\Personal\\Springboard\\Jupyter_Notebooks\n",
      "\n",
      "22-10-2019  01:41    <DIR>          .\n",
      "22-10-2019  01:41    <DIR>          ..\n",
      "22-10-2019  01:31    <DIR>          .ipynb_checkpoints\n",
      "22-10-2019  01:41             1,196 Testing Jupyter.ipynb\n",
      "               1 File(s)          1,196 bytes\n",
      "               3 Dir(s)  101,610,381,312 bytes free\n"
     ]
    }
   ],
   "source": [
    "%ls"
   ]
  }
 ],
 "metadata": {
  "kernelspec": {
   "display_name": "Python 3",
   "language": "python",
   "name": "python3"
  },
  "language_info": {
   "codemirror_mode": {
    "name": "ipython",
    "version": 3
   },
   "file_extension": ".py",
   "mimetype": "text/x-python",
   "name": "python",
   "nbconvert_exporter": "python",
   "pygments_lexer": "ipython3",
   "version": "3.7.3"
  }
 },
 "nbformat": 4,
 "nbformat_minor": 2
}
